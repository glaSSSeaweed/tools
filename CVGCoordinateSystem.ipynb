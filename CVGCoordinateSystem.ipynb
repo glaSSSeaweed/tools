{
 "cells": [
  {
   "cell_type": "code",
   "execution_count": 72,
   "metadata": {},
   "outputs": [],
   "source": [
    "from scipy.spatial.transform import Rotation as R\n",
    "import numpy as np"
   ]
  },
  {
   "cell_type": "code",
   "execution_count": 78,
   "metadata": {},
   "outputs": [
    {
     "name": "stdout",
     "output_type": "stream",
     "text": [
      "[-100.11111391   -0.97229344    0.10798071]\n",
      "[ 1.00109649e+02 -6.43814978e-02  9.76149919e-01]\n"
     ]
    }
   ],
   "source": [
    "r = R.from_quat([-0.7666340, -0.00617, -0.0059, 0.642027])\n",
    "print(r.as_euler('xyz', degrees=True))\n",
    "c2w = r.as_matrix()\n",
    "w2c = np.linalg.inv(c2w)\n",
    "print(R.from_matrix(w2c).as_euler('xyz', degrees=True))"
   ]
  },
  {
   "cell_type": "code",
   "execution_count": 87,
   "metadata": {},
   "outputs": [],
   "source": [
    "cv2bd = np.array([[1,0,0],\n",
    "              [0,-1,0],\n",
    "              [0,0,-1]])"
   ]
  },
  {
   "cell_type": "code",
   "execution_count": 111,
   "metadata": {},
   "outputs": [
    {
     "name": "stdout",
     "output_type": "stream",
     "text": [
      "CV:c2w\n",
      "\n",
      "XYZ->uvw, X, Y, Z\n",
      "[-119.37645557   -0.1606702   -89.30943743]\n",
      "CV:w2c\n",
      "\n",
      "[178.93407729 -60.61808879 -88.59239251]\n",
      "BD:w2c\n",
      "[-1.06592271 60.61808879 88.59239251]\n",
      "[ 60.62354443  -0.1606702  -89.30943743]\n"
     ]
    }
   ],
   "source": [
    "\n",
    "# right\n",
    "r = R.from_quat([0.614598, -0.60624, 0.3555805, -0.35817])\n",
    "c2w_cv = r.as_matrix()\n",
    "print(\"CV:c2w\\n\")\n",
    "print(\"XYZ->uvw, X, Y, Z\")\n",
    "print(R.from_matrix(c2w_cv).as_euler('xyz', degrees=True))\n",
    "w2c_cv = np.linalg.inv(c2w_cv)\n",
    "print(\"CV:w2c\\n\")\n",
    "print(R.from_matrix(w2c_cv).as_euler('xyz', degrees=True))\n",
    "\n",
    "w2c_bd = np.matmul(cv2bd, w2c_cv)\n",
    "print(\"BD:w2c\")\n",
    "print(R.from_matrix(w2c_bd).as_euler('xyz', degrees=True))\n",
    "c2w_bd = np.linalg.inv(w2c_bd)\n",
    "print(\"YOU NEED TO TYPE IN Blender IN XYZ EULUER SETTING\")\n",
    "print(R.from_matrix(c2w_bd).as_euler('xyz', degrees=True))"
   ]
  },
  {
   "cell_type": "code",
   "execution_count": 112,
   "metadata": {},
   "outputs": [
    {
     "name": "stdout",
     "output_type": "stream",
     "text": [
      "CV:c2w\n",
      "\n",
      "XYZ->uvw, X, Y, Z\n",
      "[-100.11111391   -0.97229344    0.10798071]\n",
      "CV:w2c\n",
      "\n",
      "[ 1.00109649e+02 -6.43814978e-02  9.76149919e-01]\n",
      "BD:w2c\n",
      "[-7.98903508e+01  6.43814978e-02 -9.76149919e-01]\n",
      "YOU NEED TO TYPE IN Blender IN XYZ EULUER SETTING\n",
      "[79.88888609 -0.97229344  0.10798071]\n"
     ]
    }
   ],
   "source": [
    "# r = R.from_euler(\"xyz\", [-0.7, 0, 0])\n",
    "# front\n",
    "r = R.from_quat([-0.7666340, -0.00617, -0.0059, 0.642027])\n",
    "c2w_cv = r.as_matrix()\n",
    "print(\"CV:c2w\\n\")\n",
    "print(\"XYZ->uvw, X, Y, Z\")\n",
    "print(R.from_matrix(c2w_cv).as_euler('xyz', degrees=True))\n",
    "w2c_cv = np.linalg.inv(c2w_cv)\n",
    "print(\"CV:w2c\\n\")\n",
    "print(R.from_matrix(w2c_cv).as_euler('xyz', degrees=True))\n",
    "\n",
    "w2c_bd = np.matmul(cv2bd, w2c_cv)\n",
    "print(\"BD:w2c\")\n",
    "print(R.from_matrix(w2c_bd).as_euler('xyz', degrees=True))\n",
    "c2w_bd = np.linalg.inv(w2c_bd)\n",
    "print(\"YOU NEED TO TYPE IN Blender IN XYZ EULUER SETTING\")\n",
    "print(R.from_matrix(c2w_bd).as_euler('xyz', degrees=True))"
   ]
  },
  {
   "cell_type": "code",
   "execution_count": 113,
   "metadata": {},
   "outputs": [
    {
     "name": "stdout",
     "output_type": "stream",
     "text": [
      "CV:c2w\n",
      "\n",
      "XYZ->uvw, X, Y, Z\n",
      "[-119.59177785    0.30238392   90.65793647]\n",
      "CV:w2c\n",
      "\n",
      "[-178.53939429   60.39809957   91.33200635]\n",
      "BD:w2c\n",
      "[  1.46060571 -60.39809957 -91.33200635]\n",
      "YOU NEED TO TYPE IN Blender IN XYZ EULUER SETTING\n",
      "[60.40822215  0.30238392 90.65793647]\n"
     ]
    }
   ],
   "source": [
    "# left\n",
    "r = R.from_quat([0.60853, 0.61367, -0.35937, -0.35206])\n",
    "c2w_cv = r.as_matrix()\n",
    "print(\"CV:c2w\\n\")\n",
    "print(\"XYZ->uvw, X, Y, Z\")\n",
    "print(R.from_matrix(c2w_cv).as_euler('xyz', degrees=True))\n",
    "w2c_cv = np.linalg.inv(c2w_cv)\n",
    "print(\"CV:w2c\\n\")\n",
    "print(R.from_matrix(w2c_cv).as_euler('xyz', degrees=True))\n",
    "\n",
    "w2c_bd = np.matmul(cv2bd, w2c_cv)\n",
    "print(\"BD:w2c\")\n",
    "print(R.from_matrix(w2c_bd).as_euler('xyz', degrees=True))\n",
    "c2w_bd = np.linalg.inv(w2c_bd)\n",
    "print(\"YOU NEED TO TYPE IN Blender IN XYZ EULUER SETTING\")\n",
    "print(R.from_matrix(c2w_bd).as_euler('xyz', degrees=True))"
   ]
  },
  {
   "cell_type": "code",
   "execution_count": null,
   "metadata": {},
   "outputs": [],
   "source": []
  }
 ],
 "metadata": {
  "kernelspec": {
   "display_name": "dev",
   "language": "python",
   "name": "python3"
  },
  "language_info": {
   "codemirror_mode": {
    "name": "ipython",
    "version": 3
   },
   "file_extension": ".py",
   "mimetype": "text/x-python",
   "name": "python",
   "nbconvert_exporter": "python",
   "pygments_lexer": "ipython3",
   "version": "3.8.18"
  }
 },
 "nbformat": 4,
 "nbformat_minor": 2
}
